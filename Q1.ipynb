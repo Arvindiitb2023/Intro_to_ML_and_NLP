{
 "cells": [
  {
   "cell_type": "code",
   "execution_count": 1,
   "id": "96b18398",
   "metadata": {},
   "outputs": [],
   "source": [
    "corpus = [\n",
    "    'the sun is a star',\n",
    "    'the moon is a satellite',\n",
    "    'the sun and moon are celestial bodies'\n",
    "]"
   ]
  },
  {
   "cell_type": "code",
   "execution_count": 2,
   "id": "215f9dcf",
   "metadata": {},
   "outputs": [],
   "source": [
    "import numpy as np\n",
    "import math"
   ]
  },
  {
   "cell_type": "code",
   "execution_count": 17,
   "id": "ba28d98c",
   "metadata": {},
   "outputs": [
    {
     "name": "stdout",
     "output_type": "stream",
     "text": [
      "['and', 'are', 'bodies', 'celestial', 'is', 'moon', 'satellite', 'star', 'sun', 'the']\n"
     ]
    }
   ],
   "source": [
    "unique_set = set()\n",
    "for i in corpus:\n",
    "    words = i.lower().split()\n",
    "    unique_set.update(words)\n",
    "\n",
    "unic = sorted(unique_set)\n",
    "unic = unic[1:]\n",
    "print(unic)"
   ]
  },
  {
   "cell_type": "code",
   "execution_count": 18,
   "id": "8338eeba",
   "metadata": {},
   "outputs": [
    {
     "name": "stdout",
     "output_type": "stream",
     "text": [
      "[[0, 0, 0, 0, 1, 0, 0, 1, 1, 1], [0, 0, 0, 0, 1, 1, 1, 0, 0, 1], [1, 1, 1, 1, 0, 1, 0, 0, 1, 1]]\n"
     ]
    }
   ],
   "source": [
    "count_matrix = []\n",
    "\n",
    "for sentence in corpus:\n",
    "    words = sentence.lower().split()\n",
    "    cou = []\n",
    "    for j in unic:\n",
    "        cou.append(words.count(j))\n",
    "    count_matrix.append(cou)\n",
    "\n",
    "print(count_matrix)\n"
   ]
  },
  {
   "cell_type": "code",
   "execution_count": 19,
   "id": "3bebf3b7",
   "metadata": {},
   "outputs": [
    {
     "name": "stdout",
     "output_type": "stream",
     "text": [
      "TF sen 1: [0.0, 0.0, 0.0, 0.0, 0.25, 0.0, 0.0, 0.25, 0.25, 0.25]\n",
      "TF sen 2: [0.0, 0.0, 0.0, 0.0, 0.25, 0.25, 0.25, 0.0, 0.0, 0.25]\n",
      "TF sen 3: [0.1429, 0.1429, 0.1429, 0.1429, 0.0, 0.1429, 0.0, 0.0, 0.1429, 0.1429]\n"
     ]
    }
   ],
   "source": [
    "# calculating TF\n",
    "tf_matrix = []\n",
    "\n",
    "for i,row in enumerate(count_matrix):\n",
    "    total_terms = sum(row)\n",
    "    tf_row = [round(count/total_terms,4) for count in row]\n",
    "    tf_matrix.append(tf_row)\n",
    "\n",
    "# Print nicely\n",
    "for i, row in enumerate(tf_matrix):\n",
    "    print(f\"TF sen {i+1}:\", row)\n",
    "\n"
   ]
  },
  {
   "cell_type": "code",
   "execution_count": 20,
   "id": "e96f0207",
   "metadata": {},
   "outputs": [
    {
     "name": "stdout",
     "output_type": "stream",
     "text": [
      "IDF values:\n",
      "and: 0.4771\n",
      "are: 0.4771\n",
      "bodies: 0.4771\n",
      "celestial: 0.4771\n",
      "is: 0.1761\n",
      "moon: 0.1761\n",
      "satellite: 0.4771\n",
      "star: 0.4771\n",
      "sun: 0.1761\n",
      "the: 0.0\n"
     ]
    }
   ],
   "source": [
    "N = len(corpus)\n",
    "idf_vector = []\n",
    "\n",
    "# Transpose count_matrix to get columns (term-wise)\n",
    "for term_index in range(len(unic)):\n",
    "    df = sum(1 for doc in count_matrix if doc[term_index] > 0)\n",
    "    \n",
    "    idf = round(math.log10(N / (df)), 4)\n",
    "    idf_vector.append(idf)\n",
    "\n",
    "# Display results\n",
    "print(\"IDF values:\")\n",
    "for term, idf_val in zip(unic, idf_vector):\n",
    "    print(f\"{term}: {idf_val}\")"
   ]
  },
  {
   "cell_type": "code",
   "execution_count": 24,
   "id": "06f44c8c",
   "metadata": {},
   "outputs": [
    {
     "name": "stdout",
     "output_type": "stream",
     "text": [
      "[[0.         0.         0.         0.         0.044025   0.\n",
      "  0.         0.119275   0.044025   0.        ]\n",
      " [0.         0.         0.         0.         0.044025   0.044025\n",
      "  0.119275   0.         0.         0.        ]\n",
      " [0.06817759 0.06817759 0.06817759 0.06817759 0.         0.02516469\n",
      "  0.         0.         0.02516469 0.        ]]\n"
     ]
    }
   ],
   "source": [
    "idf = np.array(idf_vector)\n",
    "tf = np.array(tf_matrix)\n",
    "tfidf_matrix = tf * idf\n",
    "print(tfidf_matrix)"
   ]
  },
  {
   "cell_type": "code",
   "execution_count": 21,
   "id": "4083f7de",
   "metadata": {},
   "outputs": [
    {
     "name": "stdout",
     "output_type": "stream",
     "text": [
      "CountVectorizer Matrix:\n",
      " [[0 0 0 0 1 0 0 1 1 1]\n",
      " [0 0 0 0 1 1 1 0 0 1]\n",
      " [1 1 1 1 0 1 0 0 1 1]]\n",
      "Vocabulary:\n",
      " ['and' 'are' 'bodies' 'celestial' 'is' 'moon' 'satellite' 'star' 'sun'\n",
      " 'the']\n",
      "TfidfVectorizer Matrix:\n",
      " [[0.         0.         0.         0.         0.4804584  0.\n",
      "  0.         0.63174505 0.4804584  0.37311881]\n",
      " [0.         0.         0.         0.         0.4804584  0.4804584\n",
      "  0.63174505 0.         0.         0.37311881]\n",
      " [0.4261835  0.4261835  0.4261835  0.4261835  0.         0.32412354\n",
      "  0.         0.         0.32412354 0.25171084]]\n",
      "Vocabulary:\n",
      " ['and' 'are' 'bodies' 'celestial' 'is' 'moon' 'satellite' 'star' 'sun'\n",
      " 'the']\n"
     ]
    }
   ],
   "source": [
    "from sklearn.feature_extraction.text import CountVectorizer, TfidfVectorizer\n",
    "\n",
    "cv = CountVectorizer()\n",
    "X_count = cv.fit_transform(corpus).toarray()\n",
    "print(\"CountVectorizer Matrix:\\n\", X_count)\n",
    "print(\"Vocabulary:\\n\", cv.get_feature_names_out())\n",
    "\n",
    "tfidf = TfidfVectorizer()\n",
    "X_tfidf = tfidf.fit_transform(corpus).toarray()\n",
    "print(\"TfidfVectorizer Matrix:\\n\", X_tfidf)\n",
    "print(\"Vocabulary:\\n\", tfidf.get_feature_names_out())\n"
   ]
  },
  {
   "cell_type": "code",
   "execution_count": 25,
   "id": "a64794a1",
   "metadata": {},
   "outputs": [
    {
     "data": {
      "text/plain": [
       "array([[0.        , 0.        , 0.        , 0.        , 0.044025  ,\n",
       "        0.        , 0.        , 0.119275  , 0.044025  , 0.        ],\n",
       "       [0.        , 0.        , 0.        , 0.        , 0.044025  ,\n",
       "        0.044025  , 0.119275  , 0.        , 0.        , 0.        ],\n",
       "       [0.06817759, 0.06817759, 0.06817759, 0.06817759, 0.        ,\n",
       "        0.02516469, 0.        , 0.        , 0.02516469, 0.        ]])"
      ]
     },
     "execution_count": 25,
     "metadata": {},
     "output_type": "execute_result"
    }
   ],
   "source": [
    "tfidf_matrix"
   ]
  },
  {
   "cell_type": "code",
   "execution_count": 26,
   "id": "3efae2b0",
   "metadata": {},
   "outputs": [
    {
     "data": {
      "text/plain": [
       "array([[0.        , 0.        , 0.        , 0.        , 0.4804584 ,\n",
       "        0.        , 0.        , 0.63174505, 0.4804584 , 0.37311881],\n",
       "       [0.        , 0.        , 0.        , 0.        , 0.4804584 ,\n",
       "        0.4804584 , 0.63174505, 0.        , 0.        , 0.37311881],\n",
       "       [0.4261835 , 0.4261835 , 0.4261835 , 0.4261835 , 0.        ,\n",
       "        0.32412354, 0.        , 0.        , 0.32412354, 0.25171084]])"
      ]
     },
     "execution_count": 26,
     "metadata": {},
     "output_type": "execute_result"
    }
   ],
   "source": [
    "X_tfidf"
   ]
  }
 ],
 "metadata": {
  "kernelspec": {
   "display_name": "c:\\Users\\arvin\\AppData\\Local\\Programs\\Python\\Python312\\python.exe",
   "language": "python",
   "name": "working-env"
  },
  "language_info": {
   "codemirror_mode": {
    "name": "ipython",
    "version": 3
   },
   "file_extension": ".py",
   "mimetype": "text/x-python",
   "name": "python",
   "nbconvert_exporter": "python",
   "pygments_lexer": "ipython3",
   "version": "3.12.0"
  }
 },
 "nbformat": 4,
 "nbformat_minor": 5
}
