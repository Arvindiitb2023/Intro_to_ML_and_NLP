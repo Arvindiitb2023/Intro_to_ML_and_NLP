{
 "cells": [
  {
   "cell_type": "code",
   "execution_count": null,
   "id": "2b44cc0f",
   "metadata": {},
   "outputs": [],
   "source": [
    "import numpy as np\n",
    "import random\n",
    "\n"
   ]
  },
  {
   "cell_type": "markdown",
   "id": "5487d861",
   "metadata": {},
   "source": [
    "## Q1."
   ]
  },
  {
   "cell_type": "code",
   "execution_count": 9,
   "id": "77bd7d1f",
   "metadata": {},
   "outputs": [
    {
     "data": {
      "text/plain": [
       "array([[19, 23, 39,  7],\n",
       "       [ 3, 34, 25, 10],\n",
       "       [46, 50, 22,  0],\n",
       "       [ 5,  3, 47, 25],\n",
       "       [42,  3, 47, 42]])"
      ]
     },
     "execution_count": 9,
     "metadata": {},
     "output_type": "execute_result"
    }
   ],
   "source": [
    "array = np.array([[random.randint(0, 50) for _ in range(4)] for _ in range(5)])\n",
    "array"
   ]
  },
  {
   "cell_type": "code",
   "execution_count": null,
   "id": "c45d8438",
   "metadata": {},
   "outputs": [
    {
     "name": "stdout",
     "output_type": "stream",
     "text": [
      "7\n",
      "25\n",
      "50\n",
      "5\n"
     ]
    }
   ],
   "source": [
    "# anti diagonal traversal\n",
    "cols = 3 \n",
    "row = 0\n",
    "while(cols >= 0 and row < 5):\n",
    "    print(array[row, cols])\n",
    "    cols -= 1\n",
    "    row +=1\n"
   ]
  },
  {
   "cell_type": "code",
   "execution_count": 17,
   "id": "697baef3",
   "metadata": {},
   "outputs": [
    {
     "name": "stdout",
     "output_type": "stream",
     "text": [
      "39\n",
      "34\n",
      "50\n",
      "47\n",
      "47\n"
     ]
    }
   ],
   "source": [
    "for i in range(0,5):\n",
    "    print(max(array[i]))"
   ]
  },
  {
   "cell_type": "code",
   "execution_count": null,
   "id": "426116fb",
   "metadata": {},
   "outputs": [
    {
     "name": "stdout",
     "output_type": "stream",
     "text": [
      "Mean: 24.6\n",
      "Elements less than mean: [19, 23, 7, 3, 10, 22, 0, 5, 3, 3]\n"
     ]
    }
   ],
   "source": [
    "sum = 0\n",
    "for i in range(0,5):\n",
    "    for j in range(0,4):\n",
    "        sum += array[i,j]\n",
    "mean = sum / (5 * 4)\n",
    "print(\"Mean:\", mean)\n",
    "less_than_mean = []\n",
    "for i in range(0,5):\n",
    "    for j in range(0,4):\n",
    "        if array[i,j] <= mean:\n",
    "            less_than_mean.append(array[i,j])\n",
    "print(\"Elements less than mean:\", less_than_mean)"
   ]
  },
  {
   "cell_type": "code",
   "execution_count": 22,
   "id": "626b82b2",
   "metadata": {},
   "outputs": [],
   "source": [
    "def numpy_boundary_traversal(matrix):\n",
    "    rows, cols = len(matrix), len(matrix[0])\n",
    "    result = []\n",
    "\n",
    "    # Traverse the first row\n",
    "    for j in range(cols):\n",
    "        result.append(matrix[0][j])\n",
    "\n",
    "    # Traverse the last column\n",
    "    for i in range(1, rows):\n",
    "        result.append(matrix[i][cols - 1])\n",
    "\n",
    "    # Traverse the last row if there are more than one row\n",
    "    if rows > 1:\n",
    "        for j in range(cols - 2, -1, -1):\n",
    "            result.append(matrix[rows - 1][j])\n",
    "\n",
    "    # Traverse the first column if there are more than one column\n",
    "    if cols > 1:\n",
    "        for i in range(rows - 2, 0, -1):\n",
    "            result.append(matrix[i][0])\n",
    "\n",
    "    return result"
   ]
  },
  {
   "cell_type": "code",
   "execution_count": 23,
   "id": "f660ceda",
   "metadata": {},
   "outputs": [
    {
     "data": {
      "text/plain": [
       "[19, 23, 39, 7, 10, 0, 25, 42, 47, 3, 42, 5, 46, 3]"
      ]
     },
     "execution_count": 23,
     "metadata": {},
     "output_type": "execute_result"
    }
   ],
   "source": [
    "numpy_boundary_traversal(array)"
   ]
  },
  {
   "cell_type": "markdown",
   "id": "e6bb60ec",
   "metadata": {},
   "source": [
    "## Q2."
   ]
  },
  {
   "cell_type": "code",
   "execution_count": 49,
   "id": "c1ad0657",
   "metadata": {},
   "outputs": [
    {
     "name": "stdout",
     "output_type": "stream",
     "text": [
      "[1.32 9.94 1.83 9.97 3.25 6.86 5.16 4.58 8.8  5.09 4.69 2.07 9.71 7.89\n",
      " 5.19 5.31 8.07 6.05 6.46 3.49]\n"
     ]
    }
   ],
   "source": [
    "array_1d = np.array([10*random.random() for _ in range(20)])\n",
    "rounded = np.round(array_1d, 2)\n",
    "print(rounded)"
   ]
  },
  {
   "cell_type": "code",
   "execution_count": 51,
   "id": "f9e110e5",
   "metadata": {},
   "outputs": [
    {
     "name": "stdout",
     "output_type": "stream",
     "text": [
      "max 9.97\n",
      "min 1.32\n",
      "median 5.25\n"
     ]
    }
   ],
   "source": [
    "print(\"max\",max(rounded))\n",
    "print(\"min\",min(rounded))\n",
    "print('median',np.median(rounded))"
   ]
  },
  {
   "cell_type": "code",
   "execution_count": null,
   "id": "2b677ef6",
   "metadata": {},
   "outputs": [
    {
     "name": "stdout",
     "output_type": "stream",
     "text": [
      "Modified array: [ 1.7424  9.94    3.3489  9.97   10.5625  6.86    5.16   20.9764  8.8\n",
      "  5.09   21.9961  4.2849  9.71    7.89    5.19    5.31    8.07    6.05\n",
      "  6.46   12.1801]\n"
     ]
    }
   ],
   "source": [
    "for i in range(20):\n",
    "    if rounded[i] < 5:\n",
    "        rounded[i] = rounded[i]**2\n",
    "\n",
    "print(\"Modified array:\", rounded)     \n"
   ]
  },
  {
   "cell_type": "code",
   "execution_count": 57,
   "id": "64adaf2f",
   "metadata": {},
   "outputs": [
    {
     "name": "stdout",
     "output_type": "stream",
     "text": [
      "Altered array: [ 1.7424 21.9961  3.3489 20.9764  4.2849 12.1801  5.09   10.5625  5.16\n",
      "  9.97    5.19    9.94    5.31    9.71    6.05    8.8     6.46    8.07\n",
      "  6.86    7.89  ]\n"
     ]
    }
   ],
   "source": [
    "def numpy_alterante_sort(array):\n",
    "    sorted_array = np.sort(array)\n",
    "    left = 0 \n",
    "    right = len(sorted_array) - 1\n",
    "    altered_array = []\n",
    "    while(left < right):\n",
    "        altered_array.append(sorted_array[left])\n",
    "        altered_array.append(sorted_array[right])\n",
    "        left += 1\n",
    "        right -= 1\n",
    "    \n",
    "    return np.array(altered_array)\n",
    "\n",
    "altered_array = numpy_alterante_sort(rounded)\n",
    "print(\"Altered array:\", altered_array)"
   ]
  }
 ],
 "metadata": {
  "kernelspec": {
   "display_name": "Python 3",
   "language": "python",
   "name": "python3"
  },
  "language_info": {
   "codemirror_mode": {
    "name": "ipython",
    "version": 3
   },
   "file_extension": ".py",
   "mimetype": "text/x-python",
   "name": "python",
   "nbconvert_exporter": "python",
   "pygments_lexer": "ipython3",
   "version": "3.12.0"
  }
 },
 "nbformat": 4,
 "nbformat_minor": 5
}
