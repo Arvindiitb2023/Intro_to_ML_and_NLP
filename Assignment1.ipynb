{
 "cells": [
  {
   "cell_type": "code",
   "execution_count": 132,
   "id": "2b44cc0f",
   "metadata": {},
   "outputs": [],
   "source": [
    "import numpy as np\n",
    "import random\n",
    "\n"
   ]
  },
  {
   "cell_type": "markdown",
   "id": "5487d861",
   "metadata": {},
   "source": [
    "## Q1."
   ]
  },
  {
   "cell_type": "code",
   "execution_count": 133,
   "id": "77bd7d1f",
   "metadata": {},
   "outputs": [
    {
     "data": {
      "text/plain": [
       "array([[23, 41, 15, 25],\n",
       "       [ 6, 44, 27, 14],\n",
       "       [46, 39, 31, 42],\n",
       "       [ 1, 34, 44, 32],\n",
       "       [20, 38, 19, 32]])"
      ]
     },
     "execution_count": 133,
     "metadata": {},
     "output_type": "execute_result"
    }
   ],
   "source": [
    "array = np.array([[random.randint(0, 50) for _ in range(4)] for _ in range(5)])\n",
    "array"
   ]
  },
  {
   "cell_type": "code",
   "execution_count": 134,
   "id": "c45d8438",
   "metadata": {},
   "outputs": [
    {
     "name": "stdout",
     "output_type": "stream",
     "text": [
      "25\n",
      "27\n",
      "39\n",
      "1\n"
     ]
    }
   ],
   "source": [
    "# anti diagonal traversal\n",
    "cols = 3 \n",
    "row = 0\n",
    "while(cols >= 0 and row < 5):\n",
    "    print(array[row, cols])\n",
    "    cols -= 1\n",
    "    row +=1\n"
   ]
  },
  {
   "cell_type": "code",
   "execution_count": 135,
   "id": "697baef3",
   "metadata": {},
   "outputs": [
    {
     "name": "stdout",
     "output_type": "stream",
     "text": [
      "41\n",
      "44\n",
      "46\n",
      "44\n",
      "38\n"
     ]
    }
   ],
   "source": [
    "for i in range(0,5):\n",
    "    print(max(array[i]))"
   ]
  },
  {
   "cell_type": "code",
   "execution_count": 136,
   "id": "426116fb",
   "metadata": {},
   "outputs": [
    {
     "name": "stdout",
     "output_type": "stream",
     "text": [
      "Mean: 28.65\n",
      "Elements less than mean: [23, 15, 25, 6, 27, 14, 1, 20, 19]\n"
     ]
    }
   ],
   "source": [
    "sum = 0\n",
    "for i in range(0,5):\n",
    "    for j in range(0,4):\n",
    "        sum += array[i,j]\n",
    "mean = sum / (5 * 4)\n",
    "print(\"Mean:\", mean)\n",
    "less_than_mean = []\n",
    "for i in range(0,5):\n",
    "    for j in range(0,4):\n",
    "        if array[i,j] <= mean:\n",
    "            less_than_mean.append(array[i,j])\n",
    "print(\"Elements less than mean:\", less_than_mean)"
   ]
  },
  {
   "cell_type": "code",
   "execution_count": 137,
   "id": "626b82b2",
   "metadata": {},
   "outputs": [],
   "source": [
    "def numpy_boundary_traversal(matrix):\n",
    "    rows, cols = len(matrix), len(matrix[0])\n",
    "    result = []\n",
    "\n",
    "    # Traverse the first row\n",
    "    for j in range(cols):\n",
    "        result.append(matrix[0][j])\n",
    "\n",
    "    # Traverse the last column\n",
    "    for i in range(1, rows):\n",
    "        result.append(matrix[i][cols - 1])\n",
    "\n",
    "    # Traverse the last row if there are more than one row\n",
    "    if rows > 1:\n",
    "        for j in range(cols - 2, -1, -1):\n",
    "            result.append(matrix[rows - 1][j])\n",
    "\n",
    "    # Traverse the first column if there are more than one column\n",
    "    if cols > 1:\n",
    "        for i in range(rows - 2, 0, -1):\n",
    "            result.append(matrix[i][0])\n",
    "\n",
    "    return result"
   ]
  },
  {
   "cell_type": "code",
   "execution_count": 138,
   "id": "f660ceda",
   "metadata": {},
   "outputs": [
    {
     "data": {
      "text/plain": [
       "[23, 41, 15, 25, 14, 42, 32, 32, 19, 38, 20, 1, 46, 6]"
      ]
     },
     "execution_count": 138,
     "metadata": {},
     "output_type": "execute_result"
    }
   ],
   "source": [
    "numpy_boundary_traversal(array)"
   ]
  },
  {
   "cell_type": "markdown",
   "id": "e6bb60ec",
   "metadata": {},
   "source": [
    "## Q2."
   ]
  },
  {
   "cell_type": "code",
   "execution_count": 139,
   "id": "c1ad0657",
   "metadata": {},
   "outputs": [
    {
     "name": "stdout",
     "output_type": "stream",
     "text": [
      "[8.11 5.41 3.46 2.49 3.65 3.51 5.21 1.13 5.25 5.18 7.86 8.96 7.46 0.13\n",
      " 3.19 1.07 7.98 5.63 8.82 2.44]\n"
     ]
    }
   ],
   "source": [
    "array_1d = np.array([10*random.random() for _ in range(20)])\n",
    "rounded = np.round(array_1d, 2)\n",
    "print(rounded)"
   ]
  },
  {
   "cell_type": "code",
   "execution_count": 140,
   "id": "f9e110e5",
   "metadata": {},
   "outputs": [
    {
     "name": "stdout",
     "output_type": "stream",
     "text": [
      "max 8.96\n",
      "min 0.13\n",
      "median 5.195\n"
     ]
    }
   ],
   "source": [
    "print(\"max\",max(rounded))\n",
    "print(\"min\",min(rounded))\n",
    "print('median',np.median(rounded))"
   ]
  },
  {
   "cell_type": "code",
   "execution_count": 141,
   "id": "2b677ef6",
   "metadata": {},
   "outputs": [
    {
     "name": "stdout",
     "output_type": "stream",
     "text": [
      "Modified array: [ 8.11    5.41   11.9716  6.2001 13.3225 12.3201  5.21    1.2769  5.25\n",
      "  5.18    7.86    8.96    7.46    0.0169 10.1761  1.1449  7.98    5.63\n",
      "  8.82    5.9536]\n"
     ]
    }
   ],
   "source": [
    "for i in range(20):\n",
    "    if rounded[i] < 5:\n",
    "        rounded[i] = rounded[i]**2\n",
    "\n",
    "print(\"Modified array:\", rounded)     \n"
   ]
  },
  {
   "cell_type": "code",
   "execution_count": 142,
   "id": "64adaf2f",
   "metadata": {},
   "outputs": [
    {
     "name": "stdout",
     "output_type": "stream",
     "text": [
      "Altered array: [ 0.0169 13.3225  1.1449 12.3201  1.2769 11.9716  5.18   10.1761  5.21\n",
      "  8.96    5.25    8.82    5.41    8.11    5.63    7.98    5.9536  7.86\n",
      "  6.2001  7.46  ]\n"
     ]
    }
   ],
   "source": [
    "def numpy_alterante_sort(array):\n",
    "    sorted_array = np.sort(array)\n",
    "    left = 0 \n",
    "    right = len(sorted_array) - 1\n",
    "    altered_array = []\n",
    "    while(left < right):\n",
    "        altered_array.append(sorted_array[left])\n",
    "        altered_array.append(sorted_array[right])\n",
    "        left += 1\n",
    "        right -= 1\n",
    "    \n",
    "    return np.array(altered_array)\n",
    "\n",
    "altered_array = numpy_alterante_sort(rounded)\n",
    "print(\"Altered array:\", altered_array)"
   ]
  },
  {
   "cell_type": "markdown",
   "id": "3ba1eea6",
   "metadata": {},
   "source": [
    "## Q3."
   ]
  },
  {
   "cell_type": "code",
   "execution_count": 143,
   "id": "20742e4a",
   "metadata": {},
   "outputs": [
    {
     "name": "stdout",
     "output_type": "stream",
     "text": [
      "      Name  Subject  Score Grade\n",
      "0    Alice     Math     52      \n",
      "1      Bob  Science     52      \n",
      "2  Charlie  English     84      \n",
      "3    David  English     83      \n",
      "4      Eva     Math     94      \n",
      "5    Frank  Science     53      \n",
      "6    Grace  English     57      \n",
      "7    Helen  Science     90      \n",
      "8      Ian     Math     92      \n",
      "9     Jane  Science     76      \n"
     ]
    }
   ],
   "source": [
    "import pandas as pd\n",
    "\n",
    "# Sample data\n",
    "names = ['Alice', 'Bob', 'Charlie', 'David', 'Eva', 'Frank', 'Grace', 'Helen', 'Ian', 'Jane']\n",
    "subjects = ['Math', 'Science', 'English', 'English', 'Math', 'Science', 'English', 'Science', 'Math', 'Science']\n",
    "\n",
    "# Random scores between 50 and 100\n",
    "scores = np.random.randint(50, 101, size=10)\n",
    "\n",
    "# Create DataFrame\n",
    "df = pd.DataFrame({\n",
    "    'Name': names,\n",
    "    'Subject': subjects,\n",
    "    'Score': scores,\n",
    "    'Grade': [''] * 10  # Initially empty\n",
    "})\n",
    "\n",
    "print(df)"
   ]
  },
  {
   "cell_type": "code",
   "execution_count": 144,
   "id": "61651c01",
   "metadata": {},
   "outputs": [
    {
     "name": "stdout",
     "output_type": "stream",
     "text": [
      "      Name  Subject  Score Grade\n",
      "0    Alice     Math     52     F\n",
      "1      Bob  Science     52     F\n",
      "2  Charlie  English     84     B\n",
      "3    David  English     83     B\n",
      "4      Eva     Math     94     A\n",
      "5    Frank  Science     53     F\n",
      "6    Grace  English     57     F\n",
      "7    Helen  Science     90     A\n",
      "8      Ian     Math     92     A\n",
      "9     Jane  Science     76     C\n"
     ]
    }
   ],
   "source": [
    "def assign_grade(score):\n",
    "    if score >= 90:\n",
    "        return 'A'\n",
    "    elif score >= 80:\n",
    "        return 'B'\n",
    "    elif score >= 70:\n",
    "        return 'C'\n",
    "    elif score >= 60:\n",
    "        return 'D'\n",
    "    else:\n",
    "        return 'F'\n",
    "\n",
    "# Apply the function to the Score column\n",
    "df['Grade'] = df['Score'].apply(assign_grade)\n",
    "\n",
    "print(df)"
   ]
  },
  {
   "cell_type": "code",
   "execution_count": 145,
   "id": "1b819555",
   "metadata": {},
   "outputs": [
    {
     "name": "stdout",
     "output_type": "stream",
     "text": [
      "      Name  Subject  Score Grade\n",
      "4      Eva     Math     94     A\n",
      "8      Ian     Math     92     A\n",
      "7    Helen  Science     90     A\n",
      "2  Charlie  English     84     B\n",
      "3    David  English     83     B\n",
      "9     Jane  Science     76     C\n",
      "6    Grace  English     57     F\n",
      "5    Frank  Science     53     F\n",
      "0    Alice     Math     52     F\n",
      "1      Bob  Science     52     F\n"
     ]
    }
   ],
   "source": [
    "sorted_df = df.sort_values(by='Score', ascending=False)\n",
    "print(sorted_df)"
   ]
  },
  {
   "cell_type": "code",
   "execution_count": 146,
   "id": "cba2d84d",
   "metadata": {},
   "outputs": [
    {
     "name": "stdout",
     "output_type": "stream",
     "text": [
      "Average score for Math: 79.33\n",
      "Average score for Science: 67.75\n",
      "Average score for English: 74.67\n"
     ]
    }
   ],
   "source": [
    "def subject_avg(subject):\n",
    "    subject_scores = df[df['Subject'] == subject]['Score']\n",
    "    return subject_scores.mean()\n",
    "\n",
    "for subject in df['Subject'].unique():\n",
    "    avg_score = subject_avg(subject)\n",
    "    print(f\"Average score for {subject}: {avg_score:.2f}\")"
   ]
  },
  {
   "cell_type": "code",
   "execution_count": 147,
   "id": "d947fe04",
   "metadata": {},
   "outputs": [
    {
     "name": "stdout",
     "output_type": "stream",
     "text": [
      "      Name  Subject  Score Grade\n",
      "2  Charlie  English     84     B\n",
      "3    David  English     83     B\n",
      "4      Eva     Math     94     A\n",
      "7    Helen  Science     90     A\n",
      "8      Ian     Math     92     A\n"
     ]
    }
   ],
   "source": [
    "# grades set of grades we want to filter\n",
    "def pandas_filter_pass(dataframe,grades):\n",
    "    filtered_df = dataframe[dataframe['Grade'].isin(grades)]\n",
    "    return filtered_df\n",
    "\n",
    "filtered_df = pandas_filter_pass(df, ['A', 'B'])\n",
    "print(filtered_df)\n"
   ]
  },
  {
   "cell_type": "markdown",
   "id": "2372efc0",
   "metadata": {},
   "source": [
    "## Q4."
   ]
  },
  {
   "cell_type": "code",
   "execution_count": 148,
   "id": "f09a9557",
   "metadata": {},
   "outputs": [],
   "source": [
    "positive_templates = [\n",
    "    \"I was completely blown away by the amazing acting and direction.\",\n",
    "    \"This movie exceeded all my expectations and kept me engaged throughout.\",\n",
    "    \"A touching story with brilliant performances and stunning visuals.\",\n",
    "    \"One of the best films I've watched in recent years. A true masterpiece.\",\n",
    "    \"The plot was gripping, the characters well-developed, and the ending satisfying.\",\n",
    "    \"An inspiring and beautifully crafted film with a powerful message.\",\n",
    "    \"Every scene was well executed and emotionally moving.\",\n",
    "    \"It had a perfect mix of humor, drama, and emotion. Loved it!\",\n",
    "    \"I would definitely recommend this to anyone looking for a great movie night.\",\n",
    "    \"The soundtrack and cinematography added so much to the experience.\",\n",
    "    \"Absolutely loved it!\",\n",
    "    \"Amazing storyline and acting.\",\n",
    "    \"A masterpiece. Must watch.\",\n",
    "    \"Heartwarming and beautifully shot.\",\n",
    "    \"Brilliant performance by the cast.\",\n",
    "    \"It was an emotional rollercoaster in a good way.\",\n",
    "    \"One of the best movies this year.\",\n",
    "    \"Highly entertaining and well-directed.\",\n",
    "    \"A cinematic gem.\",\n",
    "    \"Worth every minute!\",\n",
    "    \"I absolutely loved this movie. The performances were outstanding and the direction was flawless.\",\n",
    "    \"A beautifully told story with emotional depth and relatable characters.\",\n",
    "    \"This film is a masterpiece — every frame was carefully crafted and meaningful.\",\n",
    "    \"The combination of a powerful script and stellar acting made this unforgettable.\",\n",
    "    \"A stunning experience from start to finish. The visuals were breathtaking and the score was enchanting.\",\n",
    "    \"One of the few movies that truly moved me. It's both thought-provoking and heartwarming.\",\n",
    "    \"The storytelling was seamless, with just the right balance of emotion and entertainment.\",\n",
    "    \"An exceptional movie that showcases the best of cinema — compelling, artistic, and memorable.\",\n",
    "    \"A feel-good film that restores faith in good storytelling. Highly recommend it to everyone.\",\n",
    "    \"Every element worked perfectly — from cinematography to sound design to character development.\",\n",
    "    \"It had an emotional core that resonated deeply with me. Truly a beautiful piece of art.\",\n",
    "    \"The chemistry between the lead actors made the narrative even more believable and enjoyable.\",\n",
    "    \"With such a well-paced plot and engaging twists, it was impossible to look away.\",\n",
    "    \"A rare gem that combines humor, emotion, and intellect effortlessly.\",\n",
    "    \"This movie reminded me why I love films — pure joy and artistic brilliance.\",\n",
    "    \"The emotional moments were genuine, and the dialogues were smart and impactful.\",\n",
    "    \"An inspiring journey that left me feeling hopeful and uplifted.\",\n",
    "    \"A triumph of storytelling, capturing both the grandeur and intimacy of the human experience.\",\n",
    "    \"The direction was sharp, the cinematography vivid, and the acting top-notch.\",\n",
    "    \"Truly an emotionally satisfying and visually stunning movie experience.\"\n",
    "]\n"
   ]
  },
  {
   "cell_type": "code",
   "execution_count": 149,
   "id": "ceb2741b",
   "metadata": {},
   "outputs": [],
   "source": [
    "negative_templates = [\n",
    "    \"The movie was boring and dragged on with no real plot or direction.\",\n",
    "    \"Acting was poor and the characters felt completely lifeless.\",\n",
    "    \"I had high hopes, but it turned out to be a total waste of time.\",\n",
    "    \"It felt like the script was written in a rush. Everything was predictable.\",\n",
    "    \"A forgettable movie with no emotional depth or originality.\",\n",
    "    \"The pacing was slow and the ending made no sense at all.\",\n",
    "    \"Dialogue felt forced and scenes lacked any real emotion.\",\n",
    "    \"One of the worst films I’ve ever seen. Couldn't wait for it to end.\",\n",
    "    \"Visually dull with terrible editing and poor storytelling.\",\n",
    "    \"They tried to do too much and failed at everything. Disappointing.\",\n",
    "    \"Totally disappointed.\",\n",
    "    \"Worst acting I've ever seen.\",\n",
    "    \"The story made no sense.\",\n",
    "    \"It was painfully slow.\",\n",
    "    \"A complete waste of time.\",\n",
    "    \"Poorly written and directed.\",\n",
    "    \"Boring and unoriginal.\",\n",
    "    \"Lacked depth and emotion.\",\n",
    "    \"Bad editing ruined the movie.\",\n",
    "    \"Regret watching it.\",\n",
    "    \"This movie was a mess from beginning to end. Weak plot, poor acting, and terrible pacing.\",\n",
    "    \"I couldn't connect with the characters or the story. It felt flat and emotionless.\",\n",
    "    \"What a disappointment. The trailer promised a lot more than the movie delivered.\",\n",
    "    \"The dialogue was cringeworthy, and most scenes dragged on far too long.\",\n",
    "    \"It was hard to stay engaged. The plot was incoherent and full of clichés.\",\n",
    "    \"An absolute snoozefest. I was checking the time every 10 minutes.\",\n",
    "    \"It tried to be deep and philosophical but ended up being confusing and pretentious.\",\n",
    "    \"There was no chemistry between the actors, and the story felt like it was made up on the spot.\",\n",
    "    \"The visual effects were subpar and the editing made it even worse.\",\n",
    "    \"It lacked originality, suspense, or any emotional weight.\",\n",
    "    \"Just a forgettable experience. Nothing stood out and I wouldn't recommend it.\",\n",
    "    \"The characters were one-dimensional and the conflict was poorly developed.\",\n",
    "    \"So many plot holes and unnecessary subplots. It felt like a waste of time.\",\n",
    "    \"It was neither entertaining nor meaningful — just bland and forgettable.\",\n",
    "    \"I regret spending my time on this. It felt more like a rough draft than a finished product.\",\n",
    "    \"The pacing was off, and the story failed to build any tension or interest.\",\n",
    "    \"This could have been good with better writing, but it failed on almost every front.\",\n",
    "    \"A lazy attempt at storytelling with zero emotional engagement.\",\n",
    "    \"I didn’t care about any of the characters, and the ending made no sense at all.\",\n",
    "    \"Completely unoriginal — borrowed too much from better films without adding anything new.\"\n",
    "]"
   ]
  },
  {
   "cell_type": "markdown",
   "id": "ce8753de",
   "metadata": {},
   "source": [
    "random gpt templates generated for analysis"
   ]
  },
  {
   "cell_type": "code",
   "execution_count": 150,
   "id": "dd5df4df",
   "metadata": {},
   "outputs": [],
   "source": [
    "# Create 50 from each with some shuffling\n",
    "positive_reviews = [{'review': random.choice(positive_templates), 'sentiment': '+'} for _ in range(50)]\n",
    "negative_reviews = [{'review': random.choice(negative_templates), 'sentiment': '-'} for _ in range(50)]\n",
    "\n",
    "# Combine and shuffle\n",
    "data = positive_reviews + negative_reviews\n",
    "random.shuffle(data)\n",
    "\n",
    "# Create DataFrame\n",
    "review_df = pd.DataFrame(data)"
   ]
  },
  {
   "cell_type": "code",
   "execution_count": 151,
   "id": "d426a408",
   "metadata": {},
   "outputs": [],
   "source": [
    "from sklearn.feature_extraction.text import CountVectorizer"
   ]
  },
  {
   "cell_type": "code",
   "execution_count": 152,
   "id": "8658fae6",
   "metadata": {},
   "outputs": [
    {
     "name": "stdout",
     "output_type": "stream",
     "text": [
      "Shape of matrix: (100, 202)\n",
      "Feature names (tokens): ['absolutely' 'acting' 'actors' 'adding' 'amazing' 'art' 'artistic' 'away'\n",
      " 'bad' 'beautiful']\n"
     ]
    }
   ],
   "source": [
    "vectorizer = CountVectorizer(max_features=500, stop_words='english')\n",
    "X = vectorizer.fit_transform(review_df['review'])\n",
    "print(\"Shape of matrix:\", X.shape)  # Should be (100, <=500)\n",
    "print(\"Feature names (tokens):\", vectorizer.get_feature_names_out()[:10])  # Show first 10 tokens"
   ]
  },
  {
   "cell_type": "code",
   "execution_count": 153,
   "id": "1826276b",
   "metadata": {},
   "outputs": [],
   "source": [
    "# train-test split\n",
    "from sklearn.model_selection import train_test_split\n",
    "\n",
    "X_train, X_test, y_train, y_test = train_test_split(X, review_df['sentiment'], test_size=0.2, random_state=42)"
   ]
  },
  {
   "cell_type": "code",
   "execution_count": 154,
   "id": "4e19a972",
   "metadata": {},
   "outputs": [
    {
     "data": {
      "text/html": [
       "<style>#sk-container-id-6 {\n",
       "  /* Definition of color scheme common for light and dark mode */\n",
       "  --sklearn-color-text: #000;\n",
       "  --sklearn-color-text-muted: #666;\n",
       "  --sklearn-color-line: gray;\n",
       "  /* Definition of color scheme for unfitted estimators */\n",
       "  --sklearn-color-unfitted-level-0: #fff5e6;\n",
       "  --sklearn-color-unfitted-level-1: #f6e4d2;\n",
       "  --sklearn-color-unfitted-level-2: #ffe0b3;\n",
       "  --sklearn-color-unfitted-level-3: chocolate;\n",
       "  /* Definition of color scheme for fitted estimators */\n",
       "  --sklearn-color-fitted-level-0: #f0f8ff;\n",
       "  --sklearn-color-fitted-level-1: #d4ebff;\n",
       "  --sklearn-color-fitted-level-2: #b3dbfd;\n",
       "  --sklearn-color-fitted-level-3: cornflowerblue;\n",
       "\n",
       "  /* Specific color for light theme */\n",
       "  --sklearn-color-text-on-default-background: var(--sg-text-color, var(--theme-code-foreground, var(--jp-content-font-color1, black)));\n",
       "  --sklearn-color-background: var(--sg-background-color, var(--theme-background, var(--jp-layout-color0, white)));\n",
       "  --sklearn-color-border-box: var(--sg-text-color, var(--theme-code-foreground, var(--jp-content-font-color1, black)));\n",
       "  --sklearn-color-icon: #696969;\n",
       "\n",
       "  @media (prefers-color-scheme: dark) {\n",
       "    /* Redefinition of color scheme for dark theme */\n",
       "    --sklearn-color-text-on-default-background: var(--sg-text-color, var(--theme-code-foreground, var(--jp-content-font-color1, white)));\n",
       "    --sklearn-color-background: var(--sg-background-color, var(--theme-background, var(--jp-layout-color0, #111)));\n",
       "    --sklearn-color-border-box: var(--sg-text-color, var(--theme-code-foreground, var(--jp-content-font-color1, white)));\n",
       "    --sklearn-color-icon: #878787;\n",
       "  }\n",
       "}\n",
       "\n",
       "#sk-container-id-6 {\n",
       "  color: var(--sklearn-color-text);\n",
       "}\n",
       "\n",
       "#sk-container-id-6 pre {\n",
       "  padding: 0;\n",
       "}\n",
       "\n",
       "#sk-container-id-6 input.sk-hidden--visually {\n",
       "  border: 0;\n",
       "  clip: rect(1px 1px 1px 1px);\n",
       "  clip: rect(1px, 1px, 1px, 1px);\n",
       "  height: 1px;\n",
       "  margin: -1px;\n",
       "  overflow: hidden;\n",
       "  padding: 0;\n",
       "  position: absolute;\n",
       "  width: 1px;\n",
       "}\n",
       "\n",
       "#sk-container-id-6 div.sk-dashed-wrapped {\n",
       "  border: 1px dashed var(--sklearn-color-line);\n",
       "  margin: 0 0.4em 0.5em 0.4em;\n",
       "  box-sizing: border-box;\n",
       "  padding-bottom: 0.4em;\n",
       "  background-color: var(--sklearn-color-background);\n",
       "}\n",
       "\n",
       "#sk-container-id-6 div.sk-container {\n",
       "  /* jupyter's `normalize.less` sets `[hidden] { display: none; }`\n",
       "     but bootstrap.min.css set `[hidden] { display: none !important; }`\n",
       "     so we also need the `!important` here to be able to override the\n",
       "     default hidden behavior on the sphinx rendered scikit-learn.org.\n",
       "     See: https://github.com/scikit-learn/scikit-learn/issues/21755 */\n",
       "  display: inline-block !important;\n",
       "  position: relative;\n",
       "}\n",
       "\n",
       "#sk-container-id-6 div.sk-text-repr-fallback {\n",
       "  display: none;\n",
       "}\n",
       "\n",
       "div.sk-parallel-item,\n",
       "div.sk-serial,\n",
       "div.sk-item {\n",
       "  /* draw centered vertical line to link estimators */\n",
       "  background-image: linear-gradient(var(--sklearn-color-text-on-default-background), var(--sklearn-color-text-on-default-background));\n",
       "  background-size: 2px 100%;\n",
       "  background-repeat: no-repeat;\n",
       "  background-position: center center;\n",
       "}\n",
       "\n",
       "/* Parallel-specific style estimator block */\n",
       "\n",
       "#sk-container-id-6 div.sk-parallel-item::after {\n",
       "  content: \"\";\n",
       "  width: 100%;\n",
       "  border-bottom: 2px solid var(--sklearn-color-text-on-default-background);\n",
       "  flex-grow: 1;\n",
       "}\n",
       "\n",
       "#sk-container-id-6 div.sk-parallel {\n",
       "  display: flex;\n",
       "  align-items: stretch;\n",
       "  justify-content: center;\n",
       "  background-color: var(--sklearn-color-background);\n",
       "  position: relative;\n",
       "}\n",
       "\n",
       "#sk-container-id-6 div.sk-parallel-item {\n",
       "  display: flex;\n",
       "  flex-direction: column;\n",
       "}\n",
       "\n",
       "#sk-container-id-6 div.sk-parallel-item:first-child::after {\n",
       "  align-self: flex-end;\n",
       "  width: 50%;\n",
       "}\n",
       "\n",
       "#sk-container-id-6 div.sk-parallel-item:last-child::after {\n",
       "  align-self: flex-start;\n",
       "  width: 50%;\n",
       "}\n",
       "\n",
       "#sk-container-id-6 div.sk-parallel-item:only-child::after {\n",
       "  width: 0;\n",
       "}\n",
       "\n",
       "/* Serial-specific style estimator block */\n",
       "\n",
       "#sk-container-id-6 div.sk-serial {\n",
       "  display: flex;\n",
       "  flex-direction: column;\n",
       "  align-items: center;\n",
       "  background-color: var(--sklearn-color-background);\n",
       "  padding-right: 1em;\n",
       "  padding-left: 1em;\n",
       "}\n",
       "\n",
       "\n",
       "/* Toggleable style: style used for estimator/Pipeline/ColumnTransformer box that is\n",
       "clickable and can be expanded/collapsed.\n",
       "- Pipeline and ColumnTransformer use this feature and define the default style\n",
       "- Estimators will overwrite some part of the style using the `sk-estimator` class\n",
       "*/\n",
       "\n",
       "/* Pipeline and ColumnTransformer style (default) */\n",
       "\n",
       "#sk-container-id-6 div.sk-toggleable {\n",
       "  /* Default theme specific background. It is overwritten whether we have a\n",
       "  specific estimator or a Pipeline/ColumnTransformer */\n",
       "  background-color: var(--sklearn-color-background);\n",
       "}\n",
       "\n",
       "/* Toggleable label */\n",
       "#sk-container-id-6 label.sk-toggleable__label {\n",
       "  cursor: pointer;\n",
       "  display: flex;\n",
       "  width: 100%;\n",
       "  margin-bottom: 0;\n",
       "  padding: 0.5em;\n",
       "  box-sizing: border-box;\n",
       "  text-align: center;\n",
       "  align-items: start;\n",
       "  justify-content: space-between;\n",
       "  gap: 0.5em;\n",
       "}\n",
       "\n",
       "#sk-container-id-6 label.sk-toggleable__label .caption {\n",
       "  font-size: 0.6rem;\n",
       "  font-weight: lighter;\n",
       "  color: var(--sklearn-color-text-muted);\n",
       "}\n",
       "\n",
       "#sk-container-id-6 label.sk-toggleable__label-arrow:before {\n",
       "  /* Arrow on the left of the label */\n",
       "  content: \"▸\";\n",
       "  float: left;\n",
       "  margin-right: 0.25em;\n",
       "  color: var(--sklearn-color-icon);\n",
       "}\n",
       "\n",
       "#sk-container-id-6 label.sk-toggleable__label-arrow:hover:before {\n",
       "  color: var(--sklearn-color-text);\n",
       "}\n",
       "\n",
       "/* Toggleable content - dropdown */\n",
       "\n",
       "#sk-container-id-6 div.sk-toggleable__content {\n",
       "  max-height: 0;\n",
       "  max-width: 0;\n",
       "  overflow: hidden;\n",
       "  text-align: left;\n",
       "  /* unfitted */\n",
       "  background-color: var(--sklearn-color-unfitted-level-0);\n",
       "}\n",
       "\n",
       "#sk-container-id-6 div.sk-toggleable__content.fitted {\n",
       "  /* fitted */\n",
       "  background-color: var(--sklearn-color-fitted-level-0);\n",
       "}\n",
       "\n",
       "#sk-container-id-6 div.sk-toggleable__content pre {\n",
       "  margin: 0.2em;\n",
       "  border-radius: 0.25em;\n",
       "  color: var(--sklearn-color-text);\n",
       "  /* unfitted */\n",
       "  background-color: var(--sklearn-color-unfitted-level-0);\n",
       "}\n",
       "\n",
       "#sk-container-id-6 div.sk-toggleable__content.fitted pre {\n",
       "  /* unfitted */\n",
       "  background-color: var(--sklearn-color-fitted-level-0);\n",
       "}\n",
       "\n",
       "#sk-container-id-6 input.sk-toggleable__control:checked~div.sk-toggleable__content {\n",
       "  /* Expand drop-down */\n",
       "  max-height: 200px;\n",
       "  max-width: 100%;\n",
       "  overflow: auto;\n",
       "}\n",
       "\n",
       "#sk-container-id-6 input.sk-toggleable__control:checked~label.sk-toggleable__label-arrow:before {\n",
       "  content: \"▾\";\n",
       "}\n",
       "\n",
       "/* Pipeline/ColumnTransformer-specific style */\n",
       "\n",
       "#sk-container-id-6 div.sk-label input.sk-toggleable__control:checked~label.sk-toggleable__label {\n",
       "  color: var(--sklearn-color-text);\n",
       "  background-color: var(--sklearn-color-unfitted-level-2);\n",
       "}\n",
       "\n",
       "#sk-container-id-6 div.sk-label.fitted input.sk-toggleable__control:checked~label.sk-toggleable__label {\n",
       "  background-color: var(--sklearn-color-fitted-level-2);\n",
       "}\n",
       "\n",
       "/* Estimator-specific style */\n",
       "\n",
       "/* Colorize estimator box */\n",
       "#sk-container-id-6 div.sk-estimator input.sk-toggleable__control:checked~label.sk-toggleable__label {\n",
       "  /* unfitted */\n",
       "  background-color: var(--sklearn-color-unfitted-level-2);\n",
       "}\n",
       "\n",
       "#sk-container-id-6 div.sk-estimator.fitted input.sk-toggleable__control:checked~label.sk-toggleable__label {\n",
       "  /* fitted */\n",
       "  background-color: var(--sklearn-color-fitted-level-2);\n",
       "}\n",
       "\n",
       "#sk-container-id-6 div.sk-label label.sk-toggleable__label,\n",
       "#sk-container-id-6 div.sk-label label {\n",
       "  /* The background is the default theme color */\n",
       "  color: var(--sklearn-color-text-on-default-background);\n",
       "}\n",
       "\n",
       "/* On hover, darken the color of the background */\n",
       "#sk-container-id-6 div.sk-label:hover label.sk-toggleable__label {\n",
       "  color: var(--sklearn-color-text);\n",
       "  background-color: var(--sklearn-color-unfitted-level-2);\n",
       "}\n",
       "\n",
       "/* Label box, darken color on hover, fitted */\n",
       "#sk-container-id-6 div.sk-label.fitted:hover label.sk-toggleable__label.fitted {\n",
       "  color: var(--sklearn-color-text);\n",
       "  background-color: var(--sklearn-color-fitted-level-2);\n",
       "}\n",
       "\n",
       "/* Estimator label */\n",
       "\n",
       "#sk-container-id-6 div.sk-label label {\n",
       "  font-family: monospace;\n",
       "  font-weight: bold;\n",
       "  display: inline-block;\n",
       "  line-height: 1.2em;\n",
       "}\n",
       "\n",
       "#sk-container-id-6 div.sk-label-container {\n",
       "  text-align: center;\n",
       "}\n",
       "\n",
       "/* Estimator-specific */\n",
       "#sk-container-id-6 div.sk-estimator {\n",
       "  font-family: monospace;\n",
       "  border: 1px dotted var(--sklearn-color-border-box);\n",
       "  border-radius: 0.25em;\n",
       "  box-sizing: border-box;\n",
       "  margin-bottom: 0.5em;\n",
       "  /* unfitted */\n",
       "  background-color: var(--sklearn-color-unfitted-level-0);\n",
       "}\n",
       "\n",
       "#sk-container-id-6 div.sk-estimator.fitted {\n",
       "  /* fitted */\n",
       "  background-color: var(--sklearn-color-fitted-level-0);\n",
       "}\n",
       "\n",
       "/* on hover */\n",
       "#sk-container-id-6 div.sk-estimator:hover {\n",
       "  /* unfitted */\n",
       "  background-color: var(--sklearn-color-unfitted-level-2);\n",
       "}\n",
       "\n",
       "#sk-container-id-6 div.sk-estimator.fitted:hover {\n",
       "  /* fitted */\n",
       "  background-color: var(--sklearn-color-fitted-level-2);\n",
       "}\n",
       "\n",
       "/* Specification for estimator info (e.g. \"i\" and \"?\") */\n",
       "\n",
       "/* Common style for \"i\" and \"?\" */\n",
       "\n",
       ".sk-estimator-doc-link,\n",
       "a:link.sk-estimator-doc-link,\n",
       "a:visited.sk-estimator-doc-link {\n",
       "  float: right;\n",
       "  font-size: smaller;\n",
       "  line-height: 1em;\n",
       "  font-family: monospace;\n",
       "  background-color: var(--sklearn-color-background);\n",
       "  border-radius: 1em;\n",
       "  height: 1em;\n",
       "  width: 1em;\n",
       "  text-decoration: none !important;\n",
       "  margin-left: 0.5em;\n",
       "  text-align: center;\n",
       "  /* unfitted */\n",
       "  border: var(--sklearn-color-unfitted-level-1) 1pt solid;\n",
       "  color: var(--sklearn-color-unfitted-level-1);\n",
       "}\n",
       "\n",
       ".sk-estimator-doc-link.fitted,\n",
       "a:link.sk-estimator-doc-link.fitted,\n",
       "a:visited.sk-estimator-doc-link.fitted {\n",
       "  /* fitted */\n",
       "  border: var(--sklearn-color-fitted-level-1) 1pt solid;\n",
       "  color: var(--sklearn-color-fitted-level-1);\n",
       "}\n",
       "\n",
       "/* On hover */\n",
       "div.sk-estimator:hover .sk-estimator-doc-link:hover,\n",
       ".sk-estimator-doc-link:hover,\n",
       "div.sk-label-container:hover .sk-estimator-doc-link:hover,\n",
       ".sk-estimator-doc-link:hover {\n",
       "  /* unfitted */\n",
       "  background-color: var(--sklearn-color-unfitted-level-3);\n",
       "  color: var(--sklearn-color-background);\n",
       "  text-decoration: none;\n",
       "}\n",
       "\n",
       "div.sk-estimator.fitted:hover .sk-estimator-doc-link.fitted:hover,\n",
       ".sk-estimator-doc-link.fitted:hover,\n",
       "div.sk-label-container:hover .sk-estimator-doc-link.fitted:hover,\n",
       ".sk-estimator-doc-link.fitted:hover {\n",
       "  /* fitted */\n",
       "  background-color: var(--sklearn-color-fitted-level-3);\n",
       "  color: var(--sklearn-color-background);\n",
       "  text-decoration: none;\n",
       "}\n",
       "\n",
       "/* Span, style for the box shown on hovering the info icon */\n",
       ".sk-estimator-doc-link span {\n",
       "  display: none;\n",
       "  z-index: 9999;\n",
       "  position: relative;\n",
       "  font-weight: normal;\n",
       "  right: .2ex;\n",
       "  padding: .5ex;\n",
       "  margin: .5ex;\n",
       "  width: min-content;\n",
       "  min-width: 20ex;\n",
       "  max-width: 50ex;\n",
       "  color: var(--sklearn-color-text);\n",
       "  box-shadow: 2pt 2pt 4pt #999;\n",
       "  /* unfitted */\n",
       "  background: var(--sklearn-color-unfitted-level-0);\n",
       "  border: .5pt solid var(--sklearn-color-unfitted-level-3);\n",
       "}\n",
       "\n",
       ".sk-estimator-doc-link.fitted span {\n",
       "  /* fitted */\n",
       "  background: var(--sklearn-color-fitted-level-0);\n",
       "  border: var(--sklearn-color-fitted-level-3);\n",
       "}\n",
       "\n",
       ".sk-estimator-doc-link:hover span {\n",
       "  display: block;\n",
       "}\n",
       "\n",
       "/* \"?\"-specific style due to the `<a>` HTML tag */\n",
       "\n",
       "#sk-container-id-6 a.estimator_doc_link {\n",
       "  float: right;\n",
       "  font-size: 1rem;\n",
       "  line-height: 1em;\n",
       "  font-family: monospace;\n",
       "  background-color: var(--sklearn-color-background);\n",
       "  border-radius: 1rem;\n",
       "  height: 1rem;\n",
       "  width: 1rem;\n",
       "  text-decoration: none;\n",
       "  /* unfitted */\n",
       "  color: var(--sklearn-color-unfitted-level-1);\n",
       "  border: var(--sklearn-color-unfitted-level-1) 1pt solid;\n",
       "}\n",
       "\n",
       "#sk-container-id-6 a.estimator_doc_link.fitted {\n",
       "  /* fitted */\n",
       "  border: var(--sklearn-color-fitted-level-1) 1pt solid;\n",
       "  color: var(--sklearn-color-fitted-level-1);\n",
       "}\n",
       "\n",
       "/* On hover */\n",
       "#sk-container-id-6 a.estimator_doc_link:hover {\n",
       "  /* unfitted */\n",
       "  background-color: var(--sklearn-color-unfitted-level-3);\n",
       "  color: var(--sklearn-color-background);\n",
       "  text-decoration: none;\n",
       "}\n",
       "\n",
       "#sk-container-id-6 a.estimator_doc_link.fitted:hover {\n",
       "  /* fitted */\n",
       "  background-color: var(--sklearn-color-fitted-level-3);\n",
       "}\n",
       "</style><div id=\"sk-container-id-6\" class=\"sk-top-container\"><div class=\"sk-text-repr-fallback\"><pre>MultinomialNB()</pre><b>In a Jupyter environment, please rerun this cell to show the HTML representation or trust the notebook. <br />On GitHub, the HTML representation is unable to render, please try loading this page with nbviewer.org.</b></div><div class=\"sk-container\" hidden><div class=\"sk-item\"><div class=\"sk-estimator fitted sk-toggleable\"><input class=\"sk-toggleable__control sk-hidden--visually\" id=\"sk-estimator-id-6\" type=\"checkbox\" checked><label for=\"sk-estimator-id-6\" class=\"sk-toggleable__label fitted sk-toggleable__label-arrow\"><div><div>MultinomialNB</div></div><div><a class=\"sk-estimator-doc-link fitted\" rel=\"noreferrer\" target=\"_blank\" href=\"https://scikit-learn.org/1.6/modules/generated/sklearn.naive_bayes.MultinomialNB.html\">?<span>Documentation for MultinomialNB</span></a><span class=\"sk-estimator-doc-link fitted\">i<span>Fitted</span></span></div></label><div class=\"sk-toggleable__content fitted\"><pre>MultinomialNB()</pre></div> </div></div></div></div>"
      ],
      "text/plain": [
       "MultinomialNB()"
      ]
     },
     "execution_count": 154,
     "metadata": {},
     "output_type": "execute_result"
    }
   ],
   "source": [
    "from sklearn.naive_bayes import MultinomialNB\n",
    "from sklearn.metrics import accuracy_score\n",
    "model = MultinomialNB()\n",
    "model.fit(X_train, y_train)\n"
   ]
  },
  {
   "cell_type": "code",
   "execution_count": 155,
   "id": "96113175",
   "metadata": {},
   "outputs": [
    {
     "name": "stdout",
     "output_type": "stream",
     "text": [
      "Test Accuracy: 1.00\n"
     ]
    }
   ],
   "source": [
    "y_pred = model.predict(X_test)\n",
    "\n",
    "# Step 3: Evaluate\n",
    "accuracy = accuracy_score(y_test, y_pred)\n",
    "print(f\"Test Accuracy: {accuracy:.2f}\")"
   ]
  },
  {
   "cell_type": "code",
   "execution_count": 161,
   "id": "3af84b40",
   "metadata": {},
   "outputs": [
    {
     "name": "stdout",
     "output_type": "stream",
     "text": [
      "Review: This movie was absolutely fantastic! The acting was superb and the plot was engaging.\n",
      "Predicted Sentiment: +\n"
     ]
    }
   ],
   "source": [
    "def predict_review_sentiment(model , vectorizer , review):\n",
    "    review_vector = vectorizer.transform([review])\n",
    "    prediction = model.predict(review_vector)\n",
    "    return prediction[0]\n",
    "\n",
    "# Example usage\n",
    "review = \"This movie was absolutely fantastic! The acting was superb and the plot was engaging.\"\n",
    "sentiment = predict_review_sentiment(model, vectorizer, review)\n",
    "print(f\"Review: {review}\\nPredicted Sentiment: {sentiment}\")"
   ]
  },
  {
   "cell_type": "markdown",
   "id": "4bffaf5c",
   "metadata": {},
   "source": [
    "# Q5."
   ]
  },
  {
   "cell_type": "code",
   "execution_count": null,
   "id": "9265856b",
   "metadata": {},
   "outputs": [],
   "source": []
  }
 ],
 "metadata": {
  "kernelspec": {
   "display_name": "Python 3",
   "language": "python",
   "name": "python3"
  },
  "language_info": {
   "codemirror_mode": {
    "name": "ipython",
    "version": 3
   },
   "file_extension": ".py",
   "mimetype": "text/x-python",
   "name": "python",
   "nbconvert_exporter": "python",
   "pygments_lexer": "ipython3",
   "version": "3.12.0"
  }
 },
 "nbformat": 4,
 "nbformat_minor": 5
}
